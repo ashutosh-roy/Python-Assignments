{
 "cells": [
  {
   "cell_type": "code",
   "execution_count": 1,
   "metadata": {},
   "outputs": [],
   "source": [
    "data = ['Ajay','Aishwarya','Divyan','Deb']"
   ]
  },
  {
   "cell_type": "code",
   "execution_count": 2,
   "metadata": {},
   "outputs": [],
   "source": [
    "def input_string():\n",
    "    x = True\n",
    "    while x == True:\n",
    "        search = input(\"\\n\\nEnter the name to search : \") \n",
    "        x = search.isdigit() \n",
    "\n",
    "        if(x == True):\n",
    "            print(\"Input shouldn't be a digit !\")\n",
    "    \n",
    "    return search"
   ]
  },
  {
   "cell_type": "code",
   "execution_count": 3,
   "metadata": {},
   "outputs": [],
   "source": [
    "def input_digit():\n",
    "    x = False\n",
    "    while x == False:\n",
    "        search = input(\"\\n\\nEnter the no. to search : \")\n",
    "        x = search.isdigit() \n",
    "\n",
    "        if(x == False):\n",
    "            print(\"Input should be a digit !\")\n",
    "    \n",
    "    return search"
   ]
  },
  {
   "cell_type": "markdown",
   "metadata": {},
   "source": [
    "<h2> Sequential Search<br></h2>"
   ]
  },
  {
   "cell_type": "code",
   "execution_count": 4,
   "metadata": {},
   "outputs": [
    {
     "name": "stdout",
     "output_type": "stream",
     "text": [
      "\n",
      "\n",
      "Enter the name to search : 121\n",
      "Input shouldn't be a digit !\n",
      "\n",
      "\n",
      "Enter the name to search : 3432\n",
      "Input shouldn't be a digit !\n",
      "\n",
      "\n",
      "Enter the name to search : Deb\n",
      "\n",
      "\tDeb is found in position 3\n",
      "\n"
     ]
    }
   ],
   "source": [
    "def Sequential_Search(dlist, item):\n",
    "    pos = 0\n",
    "    found = False\n",
    "    \n",
    "    while pos < len(dlist) and not found:\n",
    "        if dlist[pos] == item:\n",
    "            found = True\n",
    "        else:\n",
    "            pos = pos + 1\n",
    "    return found,pos\n",
    "    \n",
    "\n",
    "search = input_string()\n",
    "a,b = Sequential_Search(data,search)\n",
    "\n",
    "if(a == True):\n",
    "    print(\"\\n\\t{} is {} in position {}\\n\".format(search,\"found\",str(b)))\n",
    "else:\n",
    "    print(\"\\n\\t{} is {}\\n\".format(search,\"not found\"))"
   ]
  },
  {
   "cell_type": "markdown",
   "metadata": {},
   "source": [
    "<h2> Ternary Search<br></h2>"
   ]
  },
  {
   "cell_type": "code",
   "execution_count": 6,
   "metadata": {},
   "outputs": [
    {
     "name": "stdout",
     "output_type": "stream",
     "text": [
      "\n",
      "\n",
      "Enter the no. to search : sdkaj\n",
      "Input should be a digit !\n",
      "\n",
      "\n",
      "Enter the no. to search : 12as\n",
      "Input should be a digit !\n",
      "\n",
      "\n",
      "Enter the no. to search : 12\n",
      "12 not found\n",
      "\n",
      "\n"
     ]
    }
   ],
   "source": [
    "def ternarySearch(l, r, key, ar): \n",
    "    while r >= l: \n",
    "          \n",
    "        # Find mid1 and mid2 \n",
    "        mid1 = l + (r-l) // 3\n",
    "        mid2 = r - (r-l) // 3\n",
    "  \n",
    "        # Check if key is at any mid \n",
    "        if key == ar[mid1]: \n",
    "            return mid1 \n",
    "        if key == mid2: \n",
    "            return mid2 \n",
    "  \n",
    "        # Since key is not present at mid,  \n",
    "        # Check in which region it is present \n",
    "        # Then repeat the search operation in that region \n",
    "        if key < ar[mid1]: \n",
    "            # key lies between l and mid1 \n",
    "            r = mid1 - 1\n",
    "        elif key > ar[mid2]: \n",
    "            # key lies between mid2 and r \n",
    "            l = mid2 + 1\n",
    "        else: \n",
    "            # key lies between mid1 and mid2 \n",
    "            l = mid1 + 1\n",
    "            r = mid2 - 1\n",
    "  \n",
    "    # key not found \n",
    "    return -1\n",
    "  \n",
    "ar = [1, 2, 3, 4, 5, 6, 7, 8, 9, 10] \n",
    "l = 0\n",
    "r = 9\n",
    "key = int(input_digit())\n",
    "p = ternarySearch(l, r, key, ar) \n",
    "if(p!=-1):\n",
    "    print(\"Index of\", key, \"is\", p) \n",
    "else :\n",
    "    print(\"{} not found\\n\\n\".format(key))"
   ]
  },
  {
   "cell_type": "markdown",
   "metadata": {},
   "source": [
    "<h2> Installing Covid</h2>\n",
    "<p> Python Package to get information regarding the novel corona virus provided by Johns Hopkins university<br> </p>"
   ]
  },
  {
   "cell_type": "code",
   "execution_count": 7,
   "metadata": {},
   "outputs": [
    {
     "name": "stdout",
     "output_type": "stream",
     "text": [
      "Requirement already satisfied: covid in c:\\users\\royas\\anaconda3\\lib\\site-packages (2.2.10)\n",
      "Requirement already satisfied: requests in c:\\users\\royas\\anaconda3\\lib\\site-packages (from covid) (2.22.0)\n",
      "Requirement already satisfied: beautifulsoup4 in c:\\users\\royas\\anaconda3\\lib\\site-packages (from covid) (4.8.2)\n",
      "Requirement already satisfied: pydantic in c:\\users\\royas\\anaconda3\\lib\\site-packages (from covid) (1.5.1)\n",
      "Requirement already satisfied: urllib3!=1.25.0,!=1.25.1,<1.26,>=1.21.1 in c:\\users\\royas\\anaconda3\\lib\\site-packages (from requests->covid) (1.25.8)\n",
      "Requirement already satisfied: certifi>=2017.4.17 in c:\\users\\royas\\anaconda3\\lib\\site-packages (from requests->covid) (2019.11.28)\n",
      "Requirement already satisfied: chardet<3.1.0,>=3.0.2 in c:\\users\\royas\\anaconda3\\lib\\site-packages (from requests->covid) (3.0.4)\n",
      "Requirement already satisfied: idna<2.9,>=2.5 in c:\\users\\royas\\anaconda3\\lib\\site-packages (from requests->covid) (2.8)\n",
      "Requirement already satisfied: soupsieve>=1.2 in c:\\users\\royas\\anaconda3\\lib\\site-packages (from beautifulsoup4->covid) (1.9.5)\n"
     ]
    }
   ],
   "source": [
    "! pip install covid"
   ]
  },
  {
   "cell_type": "markdown",
   "metadata": {},
   "source": [
    "<h2><b> Importing the COVID Data <br></b></h2>"
   ]
  },
  {
   "cell_type": "code",
   "execution_count": 8,
   "metadata": {},
   "outputs": [],
   "source": [
    "from covid import Covid"
   ]
  },
  {
   "cell_type": "code",
   "execution_count": 9,
   "metadata": {},
   "outputs": [],
   "source": [
    "covid = Covid()"
   ]
  },
  {
   "cell_type": "code",
   "execution_count": 10,
   "metadata": {},
   "outputs": [
    {
     "name": "stdout",
     "output_type": "stream",
     "text": [
      "\n",
      "\n",
      "\tNo. OF Countries = 188\n",
      "\n"
     ]
    }
   ],
   "source": [
    "countries = covid.list_countries()\n",
    "print(\"\\n\\n\\tNo. OF Countries = {}\\n\".format(len(countries)))\n",
    "# print(countries)"
   ]
  },
  {
   "cell_type": "markdown",
   "metadata": {},
   "source": [
    "<h2><b> Storing countries in the list  <br></b></h2>"
   ]
  },
  {
   "cell_type": "code",
   "execution_count": 11,
   "metadata": {},
   "outputs": [
    {
     "name": "stdout",
     "output_type": "stream",
     "text": [
      "['US', 'Brazil', 'Russia', 'United Kingdom', 'Spain', 'Italy', 'France', 'Germany', 'India', 'Turkey', 'Iran', 'Peru', 'Canada', 'Chile', 'China', 'Mexico', 'Saudi Arabia', 'Pakistan', 'Belgium', 'Qatar', 'Netherlands', 'Bangladesh', 'Belarus', 'Ecuador', 'Sweden', 'Singapore', 'United Arab Emirates', 'Portugal', 'Switzerland', 'South Africa', 'Colombia', 'Indonesia', 'Ireland', 'Kuwait', 'Poland', 'Ukraine', 'Egypt', 'Romania', 'Israel', 'Japan', 'Austria', 'Dominican Republic', 'Philippines', 'Argentina', 'Afghanistan', 'Panama', 'Denmark', 'Korea, South', 'Serbia', 'Bahrain', 'Kazakhstan', 'Oman', 'Czechia', 'Algeria', 'Nigeria', 'Armenia', 'Norway', 'Bolivia', 'Malaysia', 'Moldova', 'Morocco', 'Ghana', 'Australia', 'Finland', 'Iraq', 'Cameroon', 'Azerbaijan', 'Honduras', 'Guatemala', 'Sudan', 'Luxembourg', 'Hungary', 'Tajikistan', 'Guinea', 'Uzbekistan', 'Senegal', 'Thailand', 'Djibouti', 'Greece', 'Congo (Kinshasa)', \"Cote d'Ivoire\", 'Bosnia and Herzegovina', 'Bulgaria', 'Gabon', 'El Salvador', 'Croatia', 'North Macedonia', 'Cuba', 'Estonia', 'Somalia', 'Iceland', 'Kyrgyzstan', 'Lithuania', 'Kenya', 'Sri Lanka', 'Slovakia', 'Maldives', 'New Zealand', 'Slovenia', 'Haiti', 'Venezuela', 'Nepal', 'Guinea-Bissau', 'Mali', 'Lebanon', 'Albania', 'Tunisia', 'Latvia', 'Zambia', 'Kosovo', 'Equatorial Guinea', 'Costa Rica', 'South Sudan', 'Ethiopia', 'Niger', 'Cyprus', 'Paraguay', 'Burkina Faso', 'Sierra Leone', 'Uruguay', 'Andorra', 'Nicaragua', 'Central African Republic', 'Georgia', 'Jordan', 'Chad', 'Diamond Princess', 'Madagascar', 'San Marino', 'Malta', 'Congo (Brazzaville)', 'Jamaica', 'Tanzania', 'Sao Tome and Principe', 'West Bank and Gaza', 'Taiwan*', 'Togo', 'Cabo Verde', 'Rwanda', 'Mauritania', 'Mauritius', 'Vietnam', 'Montenegro', 'Uganda', 'Eswatini', 'Yemen', 'Liberia', 'Mozambique', 'Benin', 'Burma', 'Malawi', 'Mongolia', 'Guyana', 'Zimbabwe', 'Brunei', 'Cambodia', 'Syria', 'Trinidad and Tobago', 'Libya', 'Bahamas', 'Monaco', 'Barbados', 'Comoros', 'Liechtenstein', 'Angola', 'Burundi', 'Eritrea', 'Botswana', 'Bhutan', 'Antigua and Barbuda', 'Gambia', 'Saint Vincent and the Grenadines', 'Timor-Leste', 'Grenada', 'Namibia', 'Laos', 'Belize', 'Fiji', 'Saint Lucia', 'Dominica', 'Saint Kitts and Nevis', 'Holy See', 'Suriname', 'Seychelles', 'MS Zaandam', 'Western Sahara', 'Papua New Guinea', 'Lesotho']\n"
     ]
    }
   ],
   "source": [
    "country_list =[]\n",
    "for i in countries:\n",
    "    country_list.append(i['name'])\n",
    "print(country_list)"
   ]
  },
  {
   "cell_type": "markdown",
   "metadata": {},
   "source": [
    "<h2><b> Storing active cases in a list  <br></b></h2>"
   ]
  },
  {
   "cell_type": "code",
   "execution_count": 12,
   "metadata": {},
   "outputs": [
    {
     "name": "stdout",
     "output_type": "stream",
     "text": [
      "[1249471, 233880, 223992, 231422, 60411, 47986, 90390, 9958, 91239, 32149, 24060, 78238, 36033, 49938, 101, 16315, 25191, 40406, 32949, 32267, 40200, 33247, 23150, 16733, 27155, 15543, 15589, 11652, 609, 12456, 17864, 17204, 1113, 15229, 11229, 13198, 14589, 4913, 1876, 1617, 640, 6631, 11069, 9577, 12154, 4432, 787, 770, 4621, 4846, 4884, 7384, 2360, 3090, 6064, 5259, 448, 7356, 1382, 3320, 2272, 5161, 488, 963, 2307, 3265, 1681, 4037, 3703, 3402, 95, 1300, 1842, 1581, 731, 1650, 74, 1653, 1357, 2364, 1283, 529, 1333, 1749, 1221, 83, 487, 167, 182, 1446, 3, 558, 378, 1139, 766, 154, 1311, 1, 8, 1386, 1012, 1000, 1145, 470, 441, 215, 77, 295, 271, 217, 866, 344, 978, 763, 88, 140, 487, 75, 406, 135, 31, 354, 731, 158, 222, 248, 48, 529, 306, 94, 391, 276, 305, 378, 75, 15, 212, 231, 104, 312, 2, 49, 0, 248, 109, 210, 98, 149, 85, 74, 157, 136, 72, 117, 1, 2, 75, 0, 59, 43, 4, 9, 61, 26, 52, 21, 0, 14, 25, 3, 5, 11, 0, 5, 9, 3, 0, 3, 0, 0, 0, 10, 2, 0, 7, 2, 0, 1]\n"
     ]
    }
   ],
   "source": [
    "active_list = []\n",
    "for i in covid.get_data():\n",
    "    active_list.append(i['active'])\n",
    "print(active_list)"
   ]
  },
  {
   "cell_type": "markdown",
   "metadata": {},
   "source": [
    "<h2><b> Sorting the countries list in ascending order based on active cases  <br></b></h2>"
   ]
  },
  {
   "cell_type": "code",
   "execution_count": 13,
   "metadata": {},
   "outputs": [
    {
     "name": "stdout",
     "output_type": "stream",
     "text": [
      "['Montenegro', 'Trinidad and Tobago', 'Eritrea', 'Timor-Leste', 'Belize', 'Saint Lucia', 'Dominica', 'Saint Kitts and Nevis', 'Seychelles', 'Papua New Guinea', 'New Zealand', 'Brunei', 'Lesotho', 'Mauritius', 'Cambodia', 'Suriname', 'Western Sahara', 'Iceland', 'Antigua and Barbuda', 'Laos', 'Fiji', 'Monaco', 'Gambia', 'Grenada', 'MS Zaandam', 'Slovenia', 'Barbados', 'Namibia', 'Holy See', 'Saint Vincent and the Grenadines', 'Botswana', 'Taiwan*', 'Burundi', 'Bhutan', 'Liechtenstein', 'Andorra', 'Bahamas', 'Diamond Princess', 'Vietnam', 'Angola', 'Libya', 'Comoros', 'Guyana', 'Thailand', 'Burma', 'Burkina Faso', 'West Bank and Gaza', 'Syria', 'Tunisia', 'Croatia', 'Benin', 'Niger', 'Malta', 'Luxembourg', 'Liberia', 'China', 'Rwanda', 'Eswatini', 'Zimbabwe', 'Uruguay', 'Mongolia', 'Cyprus', 'Mozambique', 'Slovakia', 'Malawi', 'Georgia', 'Cuba', 'Estonia', 'Yemen', 'Togo', 'Albania', 'Kosovo', 'Jordan', 'Cabo Verde', 'Chad', 'Uganda', 'Zambia', 'Jamaica', 'Latvia', 'Tanzania', 'San Marino', 'Mauritania', 'Costa Rica', 'Nicaragua', 'Lithuania', 'Sao Tome and Principe', 'Congo (Brazzaville)', 'Sierra Leone', 'Lebanon', 'Norway', 'Mali', 'North Macedonia', 'Paraguay', 'Australia', 'Bosnia and Herzegovina', 'Madagascar', 'Kyrgyzstan', 'Switzerland', 'Austria', 'Uzbekistan', 'Central African Republic', 'Ethiopia', 'Sri Lanka', 'Korea, South', 'Denmark', 'Equatorial Guinea', 'Finland', 'South Sudan', 'Nepal', 'Venezuela', 'Ireland', 'Kenya', 'Guinea-Bissau', 'El Salvador', \"Cote d'Ivoire\", 'Hungary', 'Maldives', 'Bulgaria', 'Greece', 'Malaysia', 'Haiti', 'Somalia', 'Guinea', 'Japan', 'Senegal', 'Djibouti', 'Azerbaijan', 'Gabon', 'Tajikistan', 'Israel', 'Morocco', 'Iraq', 'Czechia', 'Congo (Kinshasa)', 'Algeria', 'Cameroon', 'Moldova', 'Sudan', 'Guatemala', 'Honduras', 'Panama', 'Serbia', 'Bahrain', 'Kazakhstan', 'Romania', 'Ghana', 'Armenia', 'Nigeria', 'Dominican Republic', 'Bolivia', 'Oman', 'Argentina', 'Germany', 'Philippines', 'Poland', 'Portugal', 'Afghanistan', 'South Africa', 'Ukraine', 'Egypt', 'Kuwait', 'Singapore', 'United Arab Emirates', 'Mexico', 'Ecuador', 'Indonesia', 'Colombia', 'Belarus', 'Iran', 'Saudi Arabia', 'Sweden', 'Turkey', 'Qatar', 'Belgium', 'Bangladesh', 'Canada', 'Netherlands', 'Pakistan', 'Italy', 'Chile', 'Spain', 'Peru', 'France', 'India', 'Russia', 'United Kingdom', 'Brazil', 'US']\n"
     ]
    }
   ],
   "source": [
    "n = len(active_list) \n",
    "for i in range(n-1): \n",
    "    for j in range(0, n-i-1): \n",
    "        if active_list[j] > active_list[j+1]: \n",
    "            active_list[j], active_list[j+1] = active_list[j+1], active_list[j] \n",
    "            country_list[j], country_list[j+1] = country_list[j+1], country_list[j] \n",
    "            \n",
    "print(country_list)"
   ]
  },
  {
   "cell_type": "markdown",
   "metadata": {},
   "source": [
    "<h2><b> Reversing the country list  <br></b></h2>"
   ]
  },
  {
   "cell_type": "code",
   "execution_count": 14,
   "metadata": {},
   "outputs": [
    {
     "name": "stdout",
     "output_type": "stream",
     "text": [
      "['US', 'Brazil', 'United Kingdom', 'Russia', 'India', 'France', 'Peru', 'Spain', 'Chile', 'Italy', 'Pakistan', 'Netherlands', 'Canada', 'Bangladesh', 'Belgium', 'Qatar', 'Turkey', 'Sweden', 'Saudi Arabia', 'Iran', 'Belarus', 'Colombia', 'Indonesia', 'Ecuador', 'Mexico', 'United Arab Emirates', 'Singapore', 'Kuwait', 'Egypt', 'Ukraine', 'South Africa', 'Afghanistan', 'Portugal', 'Poland', 'Philippines', 'Germany', 'Argentina', 'Oman', 'Bolivia', 'Dominican Republic', 'Nigeria', 'Armenia', 'Ghana', 'Romania', 'Kazakhstan', 'Bahrain', 'Serbia', 'Panama', 'Honduras', 'Guatemala', 'Sudan', 'Moldova', 'Cameroon', 'Algeria', 'Congo (Kinshasa)', 'Czechia', 'Iraq', 'Morocco', 'Israel', 'Tajikistan', 'Gabon', 'Azerbaijan', 'Djibouti', 'Senegal', 'Japan', 'Guinea', 'Somalia', 'Haiti', 'Malaysia', 'Greece', 'Bulgaria', 'Maldives', 'Hungary', \"Cote d'Ivoire\", 'El Salvador', 'Guinea-Bissau', 'Kenya', 'Ireland', 'Venezuela', 'Nepal', 'South Sudan', 'Finland', 'Equatorial Guinea', 'Denmark', 'Korea, South', 'Sri Lanka', 'Ethiopia', 'Central African Republic', 'Uzbekistan', 'Austria', 'Switzerland', 'Kyrgyzstan', 'Madagascar', 'Bosnia and Herzegovina', 'Australia', 'Paraguay', 'North Macedonia', 'Mali', 'Norway', 'Lebanon', 'Sierra Leone', 'Congo (Brazzaville)', 'Sao Tome and Principe', 'Lithuania', 'Nicaragua', 'Costa Rica', 'Mauritania', 'San Marino', 'Tanzania', 'Latvia', 'Jamaica', 'Zambia', 'Uganda', 'Chad', 'Cabo Verde', 'Jordan', 'Kosovo', 'Albania', 'Togo', 'Yemen', 'Estonia', 'Cuba', 'Georgia', 'Malawi', 'Slovakia', 'Mozambique', 'Cyprus', 'Mongolia', 'Uruguay', 'Zimbabwe', 'Eswatini', 'Rwanda', 'China', 'Liberia', 'Luxembourg', 'Malta', 'Niger', 'Benin', 'Croatia', 'Tunisia', 'Syria', 'West Bank and Gaza', 'Burkina Faso', 'Burma', 'Thailand', 'Guyana', 'Comoros', 'Libya', 'Angola', 'Vietnam', 'Diamond Princess', 'Bahamas', 'Andorra', 'Liechtenstein', 'Bhutan', 'Burundi', 'Taiwan*', 'Botswana', 'Saint Vincent and the Grenadines', 'Holy See', 'Namibia', 'Barbados', 'Slovenia', 'MS Zaandam', 'Grenada', 'Gambia', 'Monaco', 'Fiji', 'Laos', 'Antigua and Barbuda', 'Iceland', 'Western Sahara', 'Suriname', 'Cambodia', 'Mauritius', 'Lesotho', 'Brunei', 'New Zealand', 'Papua New Guinea', 'Seychelles', 'Saint Kitts and Nevis', 'Dominica', 'Saint Lucia', 'Belize', 'Timor-Leste', 'Eritrea', 'Trinidad and Tobago', 'Montenegro']\n"
     ]
    }
   ],
   "source": [
    "rev = country_list[::-1]\n",
    "print(rev)"
   ]
  },
  {
   "cell_type": "markdown",
   "metadata": {},
   "source": [
    "<h2><b> Copying the country list  <br></b></h2>"
   ]
  },
  {
   "cell_type": "code",
   "execution_count": 15,
   "metadata": {},
   "outputs": [
    {
     "name": "stdout",
     "output_type": "stream",
     "text": [
      "['US', 'Brazil', 'United Kingdom', 'Russia', 'India', 'France', 'Peru', 'Spain', 'Chile', 'Italy', 'Pakistan', 'Netherlands', 'Canada', 'Bangladesh', 'Belgium', 'Qatar', 'Turkey', 'Sweden', 'Saudi Arabia', 'Iran', 'Belarus', 'Colombia', 'Indonesia', 'Ecuador', 'Mexico', 'United Arab Emirates', 'Singapore', 'Kuwait', 'Egypt', 'Ukraine', 'South Africa', 'Afghanistan', 'Portugal', 'Poland', 'Philippines', 'Germany', 'Argentina', 'Oman', 'Bolivia', 'Dominican Republic', 'Nigeria', 'Armenia', 'Ghana', 'Romania', 'Kazakhstan', 'Bahrain', 'Serbia', 'Panama', 'Honduras', 'Guatemala', 'Sudan', 'Moldova', 'Cameroon', 'Algeria', 'Congo (Kinshasa)', 'Czechia', 'Iraq', 'Morocco', 'Israel', 'Tajikistan', 'Gabon', 'Azerbaijan', 'Djibouti', 'Senegal', 'Japan', 'Guinea', 'Somalia', 'Haiti', 'Malaysia', 'Greece', 'Bulgaria', 'Maldives', 'Hungary', \"Cote d'Ivoire\", 'El Salvador', 'Guinea-Bissau', 'Kenya', 'Ireland', 'Venezuela', 'Nepal', 'South Sudan', 'Finland', 'Equatorial Guinea', 'Denmark', 'Korea, South', 'Sri Lanka', 'Ethiopia', 'Central African Republic', 'Uzbekistan', 'Austria', 'Switzerland', 'Kyrgyzstan', 'Madagascar', 'Bosnia and Herzegovina', 'Australia', 'Paraguay', 'North Macedonia', 'Mali', 'Norway', 'Lebanon', 'Sierra Leone', 'Congo (Brazzaville)', 'Sao Tome and Principe', 'Lithuania', 'Nicaragua', 'Costa Rica', 'Mauritania', 'San Marino', 'Tanzania', 'Latvia', 'Jamaica', 'Zambia', 'Uganda', 'Chad', 'Cabo Verde', 'Jordan', 'Kosovo', 'Albania', 'Togo', 'Yemen', 'Estonia', 'Cuba', 'Georgia', 'Malawi', 'Slovakia', 'Mozambique', 'Cyprus', 'Mongolia', 'Uruguay', 'Zimbabwe', 'Eswatini', 'Rwanda', 'China', 'Liberia', 'Luxembourg', 'Malta', 'Niger', 'Benin', 'Croatia', 'Tunisia', 'Syria', 'West Bank and Gaza', 'Burkina Faso', 'Burma', 'Thailand', 'Guyana', 'Comoros', 'Libya', 'Angola', 'Vietnam', 'Diamond Princess', 'Bahamas', 'Andorra', 'Liechtenstein', 'Bhutan', 'Burundi', 'Taiwan*', 'Botswana', 'Saint Vincent and the Grenadines', 'Holy See', 'Namibia', 'Barbados', 'Slovenia', 'MS Zaandam', 'Grenada', 'Gambia', 'Monaco', 'Fiji', 'Laos', 'Antigua and Barbuda', 'Iceland', 'Western Sahara', 'Suriname', 'Cambodia', 'Mauritius', 'Lesotho', 'Brunei', 'New Zealand', 'Papua New Guinea', 'Seychelles', 'Saint Kitts and Nevis', 'Dominica', 'Saint Lucia', 'Belize', 'Timor-Leste', 'Eritrea', 'Trinidad and Tobago', 'Montenegro']\n"
     ]
    }
   ],
   "source": [
    "copy = rev\n",
    "print(copy)"
   ]
  },
  {
   "cell_type": "markdown",
   "metadata": {},
   "source": [
    "<h2><b> Finding Position of India in the reversed list <br></b></h2>"
   ]
  },
  {
   "cell_type": "code",
   "execution_count": 16,
   "metadata": {},
   "outputs": [
    {
     "name": "stdout",
     "output_type": "stream",
     "text": [
      "\n",
      "\n",
      "\tThe postion of India in list of COVID affected countries =  4\n",
      "\n",
      "\n"
     ]
    }
   ],
   "source": [
    "position = copy.index('India')\n",
    "print(\"\\n\\n\\tThe postion of India in list of COVID affected countries =  {}\\n\\n\".format(str(position)))"
   ]
  },
  {
   "cell_type": "code",
   "execution_count": null,
   "metadata": {},
   "outputs": [],
   "source": []
  }
 ],
 "metadata": {
  "kernelspec": {
   "display_name": "Python 3.8.2 32-bit",
   "language": "python",
   "name": "python38232bitfd61ce1563214b20ac44f0528ef80b23"
  },
  "language_info": {
   "codemirror_mode": {
    "name": "ipython",
    "version": 3
   },
   "file_extension": ".py",
   "mimetype": "text/x-python",
   "name": "python",
   "nbconvert_exporter": "python",
   "pygments_lexer": "ipython3",
   "version": "3.8.2"
  }
 },
 "nbformat": 4,
 "nbformat_minor": 4
}
